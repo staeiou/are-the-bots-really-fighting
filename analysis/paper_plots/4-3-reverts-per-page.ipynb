{
 "cells": [
  {
   "cell_type": "code",
   "execution_count": 1,
   "metadata": {
    "collapsed": true
   },
   "outputs": [],
   "source": [
    "import pandas as pd\n",
    "import seaborn as sns\n",
    "import matplotlib.pyplot as plt\n",
    "import numpy as np\n",
    "import glob\n",
    "import pickle\n",
    "%matplotlib inline"
   ]
  },
  {
   "cell_type": "code",
   "execution_count": 2,
   "metadata": {},
   "outputs": [
    {
     "name": "stdout",
     "output_type": "stream",
     "text": [
      "../../datasets/pandas_df_all.pickle\r\n"
     ]
    }
   ],
   "source": [
    "!ls ../../datasets/*.pickle"
   ]
  },
  {
   "cell_type": "code",
   "execution_count": 3,
   "metadata": {
    "collapsed": true
   },
   "outputs": [],
   "source": [
    "with open(\"../../datasets/pandas_df_all.pickle\", \"rb\") as f:\n",
    "    df_all = pickle.load(f)"
   ]
  },
  {
   "cell_type": "code",
   "execution_count": null,
   "metadata": {
    "collapsed": true
   },
   "outputs": [],
   "source": []
  },
  {
   "cell_type": "code",
   "execution_count": 28,
   "metadata": {},
   "outputs": [
    {
     "data": {
      "text/plain": [
       "1     527714\n",
       "2      25302\n",
       "3       3870\n",
       "4       1204\n",
       "5        540\n",
       "6        336\n",
       "7        259\n",
       "8        176\n",
       "9        135\n",
       "10        60\n",
       "11        44\n",
       "12        96\n",
       "13       143\n",
       "14        70\n",
       "15        90\n",
       "16        80\n",
       "17        85\n",
       "18        54\n",
       "19        95\n",
       "20        20\n",
       "21        42\n",
       "22        88\n",
       "23       138\n",
       "24        72\n",
       "28        56\n",
       "29        87\n",
       "30        90\n",
       "31        93\n",
       "35        35\n",
       "39        39\n",
       "41        82\n",
       "Name: reverts_per_page_botpair_sorted, dtype: int64"
      ]
     },
     "execution_count": 28,
     "metadata": {},
     "output_type": "execute_result"
    }
   ],
   "source": [
    "df_all.query(\"page_namespace == 0\").reverts_per_page_botpair_sorted.value_counts().sort_index()"
   ]
  },
  {
   "cell_type": "code",
   "execution_count": null,
   "metadata": {
    "collapsed": true
   },
   "outputs": [],
   "source": []
  },
  {
   "cell_type": "code",
   "execution_count": 27,
   "metadata": {},
   "outputs": [
    {
     "data": {
      "image/png": "[encoded data removed]",
      "text/plain": [
       "<matplotlib.figure.Figure at 0x7fa5cc91aef0>"
      ]
     },
     "metadata": {},
     "output_type": "display_data"
    }
   ],
   "source": [
    "sns.set(font_scale=2, style=\"whitegrid\")\n",
    "df_all.query(\"page_namespace == 0\").reverts_per_page_botpair_sorted.value_counts().sort_index().plot(kind='bar')\n",
    "\n",
    "plt.yscale(\"log\")"
   ]
  },
  {
   "cell_type": "code",
   "execution_count": 17,
   "metadata": {},
   "outputs": [],
   "source": [
    "gb = df_all.query(\"reverts_per_page_botpair_sorted > 500\").groupby([\"language\", \"page_namespace\", \"rev_page\", \"botpair_sorted\"])"
   ]
  },
  {
   "cell_type": "code",
   "execution_count": 18,
   "metadata": {},
   "outputs": [
    {
     "data": {
      "text/plain": [
       "language  page_namespace  rev_page  botpair_sorted                              \n",
       "en        4               974956    ['AnomieBOT', 'Legobot']                          521\n",
       "                          4626266   ['ClueBot NG', 'HBC AIV helperbot']              2047\n",
       "                                    ['ClueBot NG', 'HBC AIV helperbot11']            2526\n",
       "                                    ['ClueBot NG', 'HBC AIV helperbot5']             8527\n",
       "                                    ['ClueBot NG', 'HBC AIV helperbot7']            10473\n",
       "                                    ['ClueBot', 'HBC AIV helperbot2']                1002\n",
       "                                    ['ClueBot', 'HBC AIV helperbot3']                5822\n",
       "                                    ['ClueBot', 'HBC AIV helperbot4']                1545\n",
       "                                    ['ClueBot', 'HBC AIV helperbot5']                3007\n",
       "                                    ['ClueBot', 'HBC AIV helperbot7']                4110\n",
       "                                    ['HBC AIV helperbot', 'Mr.Z-bot']                 753\n",
       "                                    ['HBC AIV helperbot3', 'VoABot II']              1889\n",
       "                                    ['HBC AIV helperbot5', 'Mr.Z-bot']               2235\n",
       "                                    ['HBC AIV helperbot7', 'Mr.Z-bot']               4504\n",
       "                                    ['HBC AIV helperbot7', 'VoABot II']               687\n",
       "                          5964327   ['ClueBot II', 'CorenSearchBot']                 3551\n",
       "                          11005908  ['EssjayBot', 'Sandbot']                          508\n",
       "                          11238105  ['DeltaQuadBot', 'HBC AIV helperbot5']            694\n",
       "                                    ['DeltaQuadBot', 'HBC AIV helperbot7']           3227\n",
       "                                    ['HBC AIV helperbot2', 'HBC NameWatcherBot']      966\n",
       "                                    ['HBC AIV helperbot3', 'HBC NameWatcherBot']     4507\n",
       "                                    ['HBC AIV helperbot4', 'HBC NameWatcherBot']     1064\n",
       "                                    ['HBC AIV helperbot5', 'HBC NameWatcherBot']     2020\n",
       "                                    ['HBC AIV helperbot5', 'SoxBot']                  628\n",
       "                                    ['HBC AIV helperbot7', 'HBC NameWatcherBot']     2620\n",
       "                                    ['HBC AIV helperbot7', 'SoxBot']                 1639\n",
       "Name: rev_id, dtype: int64"
      ]
     },
     "execution_count": 18,
     "metadata": {},
     "output_type": "execute_result"
    }
   ],
   "source": [
    "gb['rev_id'].count()"
   ]
  },
  {
   "cell_type": "code",
   "execution_count": 32,
   "metadata": {},
   "outputs": [
    {
     "data": {
      "text/plain": [
       "54946"
      ]
     },
     "execution_count": 32,
     "metadata": {},
     "output_type": "execute_result"
    }
   ],
   "source": [
    "len(df_all.query(\"language == 'en' and rev_page == 4626266\"))"
   ]
  },
  {
   "cell_type": "code",
   "execution_count": 34,
   "metadata": {},
   "outputs": [
    {
     "data": {
      "text/plain": [
       "18918"
      ]
     },
     "execution_count": 34,
     "metadata": {},
     "output_type": "execute_result"
    }
   ],
   "source": [
    "len(df_all.query(\"language == 'en' and rev_page == 11238105\"))"
   ]
  },
  {
   "cell_type": "code",
   "execution_count": 35,
   "metadata": {},
   "outputs": [
    {
     "data": {
      "text/plain": [
       "3659"
      ]
     },
     "execution_count": 35,
     "metadata": {},
     "output_type": "execute_result"
    }
   ],
   "source": [
    "len(df_all.query(\"language == 'en' and rev_page == 5964327\"))"
   ]
  },
  {
   "cell_type": "markdown",
   "metadata": {},
   "source": [
    "page_id\tpage_title\n",
    "- 974956\tPossibly_unfree_files\n",
    "- 4626266\tAdministrator_intervention_against_vandalism/TB2\n",
    "- 5964327\tSuspected_copyright_violations\n",
    "- 11005908\tTutorial/Editing/sandbox\n",
    "- 11238105\tUsernames_for_administrator_attention/Bot"
   ]
  },
  {
   "cell_type": "code",
   "execution_count": null,
   "metadata": {
    "collapsed": true
   },
   "outputs": [],
   "source": []
  },
  {
   "cell_type": "code",
   "execution_count": 38,
   "metadata": {},
   "outputs": [
    {
     "data": {
      "text/plain": [
       "botpair\n",
       "FrescoBot rv Mathbot    36.399456\n",
       "Mathbot rv DrilBot       0.556840\n",
       "Mathbot rv FrescoBot     0.670440\n",
       "Mathbot rv Yobot         0.944352\n",
       "Yobot rv Mathbot        12.057517\n",
       "Name: time_to_revert_days, dtype: float64"
      ]
     },
     "execution_count": 38,
     "metadata": {},
     "output_type": "execute_result"
    }
   ],
   "source": [
    "df_all.query(\"language == 'en' and rev_page == 5971841\").groupby(\"botpair\")['time_to_revert_days'].median()"
   ]
  },
  {
   "cell_type": "code",
   "execution_count": null,
   "metadata": {
    "collapsed": true
   },
   "outputs": [],
   "source": []
  }
 ],
 "metadata": {
  "anaconda-cloud": {},
  "kernelspec": {
   "display_name": "Python [default]",
   "language": "python",
   "name": "python3"
  },
  "language_info": {
   "codemirror_mode": {
    "name": "ipython",
    "version": 3
   },
   "file_extension": ".py",
   "mimetype": "text/x-python",
   "name": "python",
   "nbconvert_exporter": "python",
   "pygments_lexer": "ipython3",
   "version": "3.5.3"
  }
 },
 "nbformat": 4,
 "nbformat_minor": 2
}
