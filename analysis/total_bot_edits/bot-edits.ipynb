{
 "cells": [
  {
   "cell_type": "markdown",
   "metadata": {},
   "source": [
    "## Bots in en.wikipedia.org over time\n",
    "\n",
    "Based on the bot dataset at https://github.com/halfak/are-the-bots-really-fighting/datasets/"
   ]
  },
  {
   "cell_type": "code",
   "execution_count": 1,
   "metadata": {},
   "outputs": [
    {
     "name": "stdout",
     "output_type": "stream",
     "text": [
      "Requirement already satisfied: pandas in /home/staeiou/conda/lib/python3.5/site-packages\n",
      "Requirement already satisfied: seaborn in /home/staeiou/conda/lib/python3.5/site-packages\n",
      "Requirement already satisfied: mwapi in /home/staeiou/conda/lib/python3.5/site-packages\n",
      "Requirement already satisfied: python-dateutil>=2 in /home/staeiou/conda/lib/python3.5/site-packages (from pandas)\n",
      "Requirement already satisfied: pytz>=2011k in /home/staeiou/conda/lib/python3.5/site-packages (from pandas)\n",
      "Requirement already satisfied: numpy>=1.7.0 in /home/staeiou/conda/lib/python3.5/site-packages (from pandas)\n",
      "Requirement already satisfied: requests in /home/staeiou/conda/lib/python3.5/site-packages (from mwapi)\n",
      "Requirement already satisfied: six>=1.5 in /home/staeiou/conda/lib/python3.5/site-packages (from python-dateutil>=2->pandas)\n"
     ]
    }
   ],
   "source": [
    "!pip install pandas seaborn mwapi\n",
    "import pandas as pd\n",
    "import seaborn as sns\n",
    "import mwapi\n",
    "import numpy as np\n",
    "%matplotlib inline"
   ]
  },
  {
   "cell_type": "markdown",
   "metadata": {},
   "source": [
    "## Load data and initalize mwapi"
   ]
  },
  {
   "cell_type": "code",
   "execution_count": 2,
   "metadata": {},
   "outputs": [],
   "source": [
    "languages = [\"en\", \"de\", \"es\", \"ja\", \"zh\", \"ar\", \"hu\", \"fr\"]\n",
    "\n",
    "sessions = {}\n",
    "for language in languages:\n",
    "    sessions[language] = mwapi.Session(\"https://\" + language + \".wikipedia.org\",\n",
    "                                       user_agent=\"Research script by User:Staeiou\")\n",
    "    \n",
    "sessions['meta'] = mwapi.Session(\"https://meta.wikimedia.org\",\n",
    "                                       user_agent=\"Research script by User:Staeiou\")\n",
    "\n",
    "sessions['commons'] = mwapi.Session(\"https://commons.wikimedia.org\",\n",
    "                                       user_agent=\"Research script by User:Staeiou\")"
   ]
  },
  {
   "cell_type": "code",
   "execution_count": 3,
   "metadata": {},
   "outputs": [
    {
     "name": "stdout",
     "output_type": "stream",
     "text": [
      "6523\n"
     ]
    }
   ],
   "source": [
    "with open(\"../../datasets/crosswiki_unified_bot_20170328.tsv\") as f:\n",
    "    bots = f.read()\n",
    "    bot_list = bots.split(\"\\n\")\n",
    "    \n",
    "print(len(bot_list))"
   ]
  },
  {
   "cell_type": "code",
   "execution_count": null,
   "metadata": {
    "collapsed": true
   },
   "outputs": [],
   "source": []
  },
  {
   "cell_type": "code",
   "execution_count": 4,
   "metadata": {
    "collapsed": true
   },
   "outputs": [],
   "source": [
    "result = sessions['en'].get(action='query',\n",
    "                                            list='allusers',\n",
    "                                            auprop='editcount',\n",
    "                                            aulimit=1,\n",
    "                                            aufrom=\"ClueBot_NG\")"
   ]
  },
  {
   "cell_type": "code",
   "execution_count": 5,
   "metadata": {},
   "outputs": [
    {
     "data": {
      "text/plain": [
       "4440861"
      ]
     },
     "execution_count": 5,
     "metadata": {},
     "output_type": "execute_result"
    }
   ],
   "source": [
    "result['query']['allusers'][0]['editcount']"
   ]
  },
  {
   "cell_type": "markdown",
   "metadata": {},
   "source": [
    "## Function for querying API to get edit counts"
   ]
  },
  {
   "cell_type": "code",
   "execution_count": 6,
   "metadata": {
    "collapsed": true
   },
   "outputs": [],
   "source": [
    "def get_edit_count(language):\n",
    "    \"\"\"\n",
    "    With list of all bots, get the datetime of first edit for a language version.\n",
    "    Bots with no edits have a datetime of np.nan\n",
    "    \n",
    "    Parameters:\n",
    "        language, a subdomain of en.wikipedia.org (that has a Session obj in sessions[])\n",
    "    Returns:\n",
    "        first_edit_df, a dataframe containing {bot name, datetime of first edit}\n",
    "    \"\"\"\n",
    "    first_edit_df = pd.DataFrame(columns=[\"bot\", \"language\", \"edit_count\"])\n",
    "\n",
    "    for bot in bot_list:\n",
    "        try:\n",
    "            result = sessions[language].get(action='query',\n",
    "                                            list='allusers',\n",
    "                                            auprop='editcount',\n",
    "                                            aulimit=1,\n",
    "                                            aufrom=bot)\n",
    "            editcount = result['query']['allusers'][0]['editcount']\n",
    "        except:\n",
    "            editcount = np.nan\n",
    "\n",
    "        if editcount is not np.nan:\n",
    "            bot_dict = {'bot':bot, 'language':language, 'edit_count' : editcount}\n",
    "            #print(bot_dict)\n",
    "            first_edit_df = first_edit_df.append(bot_dict, ignore_index=True)\n",
    "            #print(first_edit_df)\n",
    "\n",
    "        if len(first_edit_df) % 500 == 0:\n",
    "            print(len(first_edit_df), sep=\" \")\n",
    "    return first_edit_df"
   ]
  },
  {
   "cell_type": "markdown",
   "metadata": {},
   "source": [
    "## Get first edit dataframes for each language"
   ]
  },
  {
   "cell_type": "code",
   "execution_count": 7,
   "metadata": {},
   "outputs": [
    {
     "name": "stdout",
     "output_type": "stream",
     "text": [
      "en\n",
      "-----\n",
      "500\n",
      "1000\n",
      "1500\n",
      "2000\n",
      "2500\n",
      "3000\n",
      "3500\n",
      "4000\n",
      "4500\n",
      "5000\n",
      "5500\n",
      "6000\n",
      "6500\n",
      "de\n",
      "-----\n",
      "500\n",
      "1000\n",
      "1500\n",
      "2000\n",
      "2500\n",
      "3000\n",
      "3500\n",
      "4000\n",
      "4500\n",
      "5000\n",
      "5500\n",
      "6000\n",
      "6500\n",
      "es\n",
      "-----\n",
      "500\n",
      "1000\n",
      "1500\n",
      "2000\n",
      "2500\n",
      "3000\n",
      "3500\n",
      "4000\n",
      "4500\n",
      "5000\n",
      "5500\n",
      "6000\n",
      "6500\n",
      "ja\n",
      "-----\n",
      "500\n",
      "1000\n",
      "1500\n",
      "2000\n",
      "2500\n",
      "3000\n",
      "3500\n",
      "4000\n",
      "4500\n",
      "5000\n",
      "5500\n",
      "6000\n",
      "6500\n",
      "zh\n",
      "-----\n",
      "500\n",
      "1000\n",
      "1500\n",
      "2000\n",
      "2500\n",
      "3000\n",
      "3500\n",
      "4000\n",
      "4500\n",
      "5000\n",
      "5500\n",
      "6000\n",
      "6500\n",
      "ar\n",
      "-----\n",
      "500\n",
      "1000\n",
      "1500\n",
      "2000\n",
      "2500\n",
      "3000\n",
      "3500\n",
      "4000\n",
      "4500\n",
      "5000\n",
      "5500\n",
      "6000\n",
      "6500\n",
      "hu\n",
      "-----\n",
      "500\n",
      "1000\n",
      "1500\n",
      "2000\n",
      "2500\n",
      "3000\n",
      "3500\n",
      "4000\n",
      "4500\n",
      "5000\n",
      "5500\n",
      "6000\n",
      "6500\n",
      "fr\n",
      "-----\n",
      "500\n",
      "1000\n",
      "1500\n",
      "2000\n",
      "2500\n",
      "3000\n",
      "3500\n",
      "4000\n",
      "4500\n",
      "5000\n",
      "5500\n",
      "6000\n",
      "6500\n"
     ]
    }
   ],
   "source": [
    "first_edit_df_dict = {}\n",
    "\n",
    "for language in languages:\n",
    "    print(language)\n",
    "    print(\"-----\")\n",
    "    first_edit_df_dict[language] = get_edit_count(language)"
   ]
  },
  {
   "cell_type": "code",
   "execution_count": 10,
   "metadata": {},
   "outputs": [],
   "source": [
    "import pickle\n",
    "with open(\"bot_edits_per_lang_dict.pickle\", \"wb\") as f:\n",
    "    pickle.dump(first_edit_df_dict, f)"
   ]
  },
  {
   "cell_type": "code",
   "execution_count": 12,
   "metadata": {},
   "outputs": [],
   "source": [
    "\n",
    "bot_edits_dict = first_edit_df_dict"
   ]
  },
  {
   "cell_type": "code",
   "execution_count": 14,
   "metadata": {},
   "outputs": [],
   "source": [
    "tidy_df = pd.DataFrame(columns=[\"bot\", \"language\", \"edit_count\"])\n",
    "for lang in bot_edits_dict.keys():\n",
    "    tidy_df = tidy_df.append(bot_edits_dict[lang])"
   ]
  },
  {
   "cell_type": "code",
   "execution_count": 19,
   "metadata": {},
   "outputs": [],
   "source": [
    "tidy_df = tidy_df.drop_duplicates()"
   ]
  },
  {
   "cell_type": "code",
   "execution_count": 22,
   "metadata": {},
   "outputs": [
    {
     "data": {
      "text/plain": [
       "language\n",
       "ar     10832578.0\n",
       "de     17358680.0\n",
       "en    104277118.0\n",
       "es     19280270.0\n",
       "fr     22658191.0\n",
       "hu      5971308.0\n",
       "ja      7660553.0\n",
       "zh     11678907.0\n",
       "Name: edit_count, dtype: float64"
      ]
     },
     "execution_count": 22,
     "metadata": {},
     "output_type": "execute_result"
    }
   ],
   "source": [
    "tidy_df.groupby(\"language\")['edit_count'].sum()"
   ]
  },
  {
   "cell_type": "code",
   "execution_count": null,
   "metadata": {
    "collapsed": true
   },
   "outputs": [],
   "source": []
  },
  {
   "cell_type": "code",
   "execution_count": 23,
   "metadata": {
    "collapsed": true
   },
   "outputs": [],
   "source": [
    "with open(\"../comments/df_all_comments_parsed.pickle\", \"rb\") as f:\n",
    "    df_all = pickle.load(f)"
   ]
  },
  {
   "cell_type": "code",
   "execution_count": 26,
   "metadata": {},
   "outputs": [
    {
     "data": {
      "text/plain": [
       "language\n",
       "de     188344\n",
       "en    1501386\n",
       "es     249560\n",
       "fr     253060\n",
       "ja     121652\n",
       "pt     187968\n",
       "zh     142870\n",
       "Name: revisions_reverted, dtype: int64"
      ]
     },
     "execution_count": 26,
     "metadata": {},
     "output_type": "execute_result"
    }
   ],
   "source": [
    "df_all.groupby(\"language\")['revisions_reverted'].sum()"
   ]
  },
  {
   "cell_type": "code",
   "execution_count": 27,
   "metadata": {},
   "outputs": [
    {
     "data": {
      "text/plain": [
       "0.01439803888711232"
      ]
     },
     "execution_count": 27,
     "metadata": {},
     "output_type": "execute_result"
    }
   ],
   "source": [
    "1501386/104277118"
   ]
  },
  {
   "cell_type": "code",
   "execution_count": 28,
   "metadata": {},
   "outputs": [
    {
     "data": {
      "text/plain": [
       "0.01085013376593151"
      ]
     },
     "execution_count": 28,
     "metadata": {},
     "output_type": "execute_result"
    }
   ],
   "source": [
    "188344/17358680"
   ]
  },
  {
   "cell_type": "code",
   "execution_count": 29,
   "metadata": {},
   "outputs": [
    {
     "data": {
      "text/plain": [
       "0.015880315690003057"
      ]
     },
     "execution_count": 29,
     "metadata": {},
     "output_type": "execute_result"
    }
   ],
   "source": [
    "121652/7660553"
   ]
  },
  {
   "cell_type": "markdown",
   "metadata": {},
   "source": [
    "## Export raw dataset to pickle"
   ]
  },
  {
   "cell_type": "code",
   "execution_count": null,
   "metadata": {
    "collapsed": true
   },
   "outputs": [],
   "source": [
    "import pickle"
   ]
  },
  {
   "cell_type": "code",
   "execution_count": null,
   "metadata": {
    "collapsed": true
   },
   "outputs": [],
   "source": [
    "with open(\"bot_first_edit_df_dict.pickle\", \"wb\") as f:\n",
    "    pickle.dump(first_edit_df_dict, f)"
   ]
  },
  {
   "cell_type": "markdown",
   "metadata": {},
   "source": [
    "## Make a tidy dataframe\n",
    "\n",
    "One dataframe, one row for each bot in each language"
   ]
  },
  {
   "cell_type": "code",
   "execution_count": null,
   "metadata": {
    "collapsed": true
   },
   "outputs": [],
   "source": [
    "tidy_df = pd.DataFrame(columns=[\"bot\",\"language\",\"first_edit\"])\n",
    "\n",
    "for lang, lang_df in first_edit_df_dict.items():\n",
    "    for index, row in lang_df.iterrows():        \n",
    "        bot_dict = {\"bot\":row['bot'], \"language\":lang, \"first_edit\":row['first_edit']}\n",
    "        tidy_df = tidy_df.append(bot_dict, ignore_index=True)\n"
   ]
  },
  {
   "cell_type": "code",
   "execution_count": null,
   "metadata": {
    "collapsed": true
   },
   "outputs": [],
   "source": [
    "tidy_df['first_edit_dt'] = pd.to_datetime(tidy_df['first_edit'], format=\"%Y-%m-%dT%H:%M:%SZ\")\n"
   ]
  },
  {
   "cell_type": "code",
   "execution_count": null,
   "metadata": {
    "collapsed": true
   },
   "outputs": [],
   "source": [
    "tidy_df_i = tidy_df.set_index('first_edit_dt')"
   ]
  },
  {
   "cell_type": "code",
   "execution_count": null,
   "metadata": {
    "collapsed": true
   },
   "outputs": [],
   "source": [
    "tidy_df_i.to_pickle(\"bot_first_edit_tidy_df.pickle\")"
   ]
  },
  {
   "cell_type": "code",
   "execution_count": null,
   "metadata": {
    "collapsed": true
   },
   "outputs": [],
   "source": [
    "!bzip2 -k bot_first_edit_tidy_df.pickle"
   ]
  },
  {
   "cell_type": "markdown",
   "metadata": {},
   "source": [
    "## Group by number of new bots per langauge per month"
   ]
  },
  {
   "cell_type": "code",
   "execution_count": null,
   "metadata": {
    "collapsed": true
   },
   "outputs": [],
   "source": [
    "gb = tidy_df_i.groupby([pd.TimeGrouper(\"1M\"), 'language'])['bot']"
   ]
  },
  {
   "cell_type": "code",
   "execution_count": null,
   "metadata": {},
   "outputs": [],
   "source": [
    "monthly_lang = gb.count().unstack()\n",
    "monthly_lang[0:10]"
   ]
  },
  {
   "cell_type": "markdown",
   "metadata": {},
   "source": [
    "## Plot number of new bots per month per language"
   ]
  },
  {
   "cell_type": "code",
   "execution_count": null,
   "metadata": {
    "collapsed": true
   },
   "outputs": [],
   "source": [
    "sns.set(font_scale=2)"
   ]
  },
  {
   "cell_type": "code",
   "execution_count": null,
   "metadata": {},
   "outputs": [],
   "source": [
    "axes = monthly_lang.plot(kind=\"area\", figsize=[12,17], subplots=True, sharey=True)"
   ]
  },
  {
   "cell_type": "code",
   "execution_count": null,
   "metadata": {},
   "outputs": [],
   "source": [
    "pal = sns.color_palette(\"husl\", 7)\n",
    "\n",
    "for lang, lang_df in first_edit_df_dict.items():\n",
    "        \n",
    "    ax = lang_df['bot'].groupby([pd.TimeGrouper(\"1M\")]).count().cumsum().plot(figsize=[14,8], logy=False)\n",
    "\n",
    "    ax.set_xlabel(\"Date\")\n",
    "    ax.set_ylabel(\"# of approved bots\")\n",
    "plt.suptitle(\"Number of bots that have ever run in various Wikipedia editions\")\n",
    "leg = plt.legend(first_edit_df_dict.keys())\n",
    "for legobj in leg.legendHandles:\n",
    "    legobj.set_linewidth(8.0)"
   ]
  },
  {
   "cell_type": "code",
   "execution_count": null,
   "metadata": {},
   "outputs": [],
   "source": [
    "pal = sns.color_palette(\"husl\", 7)\n",
    "\n",
    "for lang, lang_df in first_edit_df_dict.items():\n",
    "        \n",
    "    ax = lang_df['bot'].groupby([pd.TimeGrouper(\"1M\")]).count().cumsum().plot(figsize=[14,8], logy=True)\n",
    "\n",
    "    ax.set_xlabel(\"Date\")\n",
    "    ax.set_ylabel(\"# of approved bots\")\n",
    "plt.suptitle(\"Number of bots that have ever run in various Wikipedia editions\")\n",
    "leg = plt.legend(first_edit_df_dict.keys())\n",
    "for legobj in leg.legendHandles:\n",
    "    legobj.set_linewidth(8.0)"
   ]
  },
  {
   "cell_type": "code",
   "execution_count": null,
   "metadata": {},
   "outputs": [],
   "source": [
    "import matplotlib.pyplot as plt\n",
    "sns.set(font_scale=1.5)\n",
    "\n",
    "ax = first_edit_df_dict['en']['bot'].groupby([pd.TimeGrouper(\"1D\")]).count().cumsum().plot(figsize=[14,4])\n",
    "ax.set_xlabel(\"Date\")\n",
    "ax.set_ylabel(\"cumulative # of bots\")\n",
    "plt.suptitle(\"Total number of bots that have ever run on the English-language Wikipedia\")"
   ]
  },
  {
   "cell_type": "code",
   "execution_count": null,
   "metadata": {
    "collapsed": true
   },
   "outputs": [],
   "source": []
  },
  {
   "cell_type": "code",
   "execution_count": null,
   "metadata": {
    "collapsed": true
   },
   "outputs": [],
   "source": []
  },
  {
   "cell_type": "code",
   "execution_count": null,
   "metadata": {
    "collapsed": true
   },
   "outputs": [],
   "source": []
  }
 ],
 "metadata": {
  "anaconda-cloud": {},
  "kernelspec": {
   "display_name": "Python [default]",
   "language": "python",
   "name": "python3"
  },
  "language_info": {
   "codemirror_mode": {
    "name": "ipython",
    "version": 3
   },
   "file_extension": ".py",
   "mimetype": "text/x-python",
   "name": "python",
   "nbconvert_exporter": "python",
   "pygments_lexer": "ipython3",
   "version": "3.5.3"
  }
 },
 "nbformat": 4,
 "nbformat_minor": 2
}
